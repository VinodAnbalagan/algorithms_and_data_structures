{
 "cells": [
  {
   "cell_type": "markdown",
   "metadata": {},
   "source": [
    "# Practice Interview\n",
    "\n",
    "## Objective\n",
    "\n",
    "_*The partner assignment aims to provide participants with the opportunity to practice coding in an interview context. You will analyze your partner's Assignment 1. Moreover, code reviews are common practice in a software development team. This assignment should give you a taste of the code review process.*_\n",
    "\n",
    "## Group Size\n",
    "\n",
    "Each group should have 2 people. You will be assigned a partner\n",
    "\n",
    "## Parts:\n",
    "- Part 1: Complete 1 of 3 questions\n",
    "- Part 2: Review your partner's Assignment 1 submission\n",
    "- Part 3: Perform code review of your partner's assignment 1 by answering the questions below\n",
    "- Part 3: Reflect on Assignment 1 and Assignment 2\n",
    "\n",
    "## Part 1:\n",
    "\n",
    "_*You will be assigned one of three problems based of your first name. Enter your first name, in all lower case, execute the code below, and that will tell you your assigned problem. Include the output as part of your submission (do not clear the output). The problems are based-off problems from Leetcode.*_"
   ]
  },
  {
   "cell_type": "code",
   "execution_count": 1,
   "metadata": {},
   "outputs": [
    {
     "name": "stdout",
     "output_type": "stream",
     "text": [
      "2\n"
     ]
    }
   ],
   "source": [
    "import hashlib\n",
    "\n",
    "def hash_to_range(input_string: str) -> int:\n",
    "     hash_object = hashlib.sha256(input_string.encode())\n",
    "     hash_int = int(hash_object.hexdigest(), 16)\n",
    "     return (hash_int % 3) + 1\n",
    "input_string = \"vinod\"\n",
    "result = hash_to_range(input_string)\n",
    "print(result)\n"
   ]
  },
  {
   "cell_type": "markdown",
   "metadata": {},
   "source": [
    "<details>\n",
    "  <summary>Question 1</summary>\n",
    "\n",
    "  # Question One: Check Duplicates in Tree\n",
    "\n",
    "  Given the `root` of a binary tree, check whether it is contains a duplicate value. If a duplicate exists, return the duplicate value. If there are multiple duplicates, return the one with the closest distance to the root. If no duplicate exists, return -1.\n",
    "\n",
    "  ## Examples\n",
    "\n",
    "  ### Example 1\n",
    "\n",
    "  ![](./images/q1_ex1.png)\n",
    "\n",
    "  Input: `root = [1, 2, 2, 3, 5, 6, 7]` *What traversal method is this?*\n",
    "\n",
    "  Output: 2\n",
    "\n",
    "  ### Example 2\n",
    "\n",
    "  ![](./images/q1_ex2.png)\n",
    "\n",
    "  Input: `root = [1, 10, 2, 3, 10, 12, 12]`\n",
    "\n",
    "  Output: 10\n",
    "\n",
    "  ### Example 3\n",
    "\n",
    "  ![](./images/q1_ex3.png)\n",
    "\n",
    "  Input: `root = [10, 9, 8, 7]`\n",
    "\n",
    "  Output: -1\n",
    "\n",
    "</details>\n",
    "\n",
    "#### Starter Code for Question 1"
   ]
  },
  {
   "cell_type": "code",
   "execution_count": null,
   "metadata": {},
   "outputs": [],
   "source": [
    "# Definition for a binary tree node.\n",
    "# class TreeNode(object):\n",
    "#     def __init__(self, val = 0, left = None, right = None):\n",
    "#         self.val = val\n",
    "#         self.left = left\n",
    "#         self.right = right\n",
    "def is_duplicate(root: TreeNode) -> int:\n",
    "  # TODO"
   ]
  },
  {
   "cell_type": "markdown",
   "metadata": {},
   "source": [
    "<details>\n",
    "  <summary>Question 2</summary>\n",
    "\n",
    "  # Question Two: Path to Leaves\n",
    "\n",
    "  Given the `root` of a binary tree, return all root to leaf paths in any order.\n",
    "\n",
    "  ## Examples\n",
    "\n",
    "  ### Example 1\n",
    "\n",
    "  ![](./images/q1_ex1.png)\n",
    "\n",
    "  Input: `root = [1, 2, 2, 3, 5, 6, 7]` *What traversal method is this?*\n",
    "\n",
    "  Output: [[1, 2, 3], [1, 2, 5], [1, 2, 6], [1, 2, 7]]\n",
    "\n",
    "  ### Example 2\n",
    "\n",
    "  ![](./images/q1_ex3.png)\n",
    "\n",
    "  Input: `root = [10, 9, 7, 8]`\n",
    "\n",
    "  Output: [[10, 7], [10, 9, 8]]\n",
    "\n",
    "</details>\n",
    "\n",
    "#### Starter Code for Question 2"
   ]
  },
  {
   "cell_type": "code",
   "execution_count": 20,
   "metadata": {},
   "outputs": [
    {
     "name": "stdout",
     "output_type": "stream",
     "text": [
      "[[1, 2, 3], [1, 2, 5], [1, 2, 6], [1, 2, 7]]\n"
     ]
    }
   ],
   "source": [
    "from typing import List\n",
    "# Definition for a binary tree node.\n",
    "class TreeNode(object):\n",
    "    def __init__(self, val = 0, left = None, right = None):\n",
    "        self.val = val\n",
    "        self.left = left\n",
    "        self.right = right\n",
    "def bt_path(root: TreeNode) -> List[List[int]]:\n",
    "  def dfs(node: TreeNode, path:List[int], paths:List[List[int]]):\n",
    "     if node is None:\n",
    "        return\n",
    "     \n",
    "     # Add the current node to the path\n",
    "     path.append(node.val)\n",
    "\n",
    "     # If its a leaf node, add the path to paths\n",
    "     if node.left is None and node.right is None:\n",
    "        paths.append(list(path))\n",
    "     else:\n",
    "        #  Continue the search on left and right children\n",
    "        dfs(node.left, path, paths)\n",
    "        dfs(node.right, path, paths)\n",
    "\n",
    "     # Backtrack to explore other paths\n",
    "     path.pop()\n",
    "\n",
    "  all_paths =[]\n",
    "  dfs(root, [],all_paths)\n",
    "  return all_paths        \n",
    "\n",
    "# Helper function to build a tree from the list\n",
    "def build_tree(nodes, index=0):\n",
    "    if index < len(nodes) and nodes[index] is not None:\n",
    "        node = TreeNode(nodes[index])\n",
    "        node.left = build_tree(nodes, 2 * index + 1)\n",
    "        node.right = build_tree(nodes, 2 * index + 2)\n",
    "        return node\n",
    "    return None\n",
    "\n",
    "def test_bt_path():\n",
    "    # Test Example 1\n",
    "    root1 = build_tree([1, 2, 2, 3, 5, 6, 7])\n",
    "    result1 = bt_path(root1)\n",
    "    print(result1)\n",
    "\n",
    "test_bt_path()    "
   ]
  },
  {
   "cell_type": "markdown",
   "metadata": {},
   "source": [
    "<details>\n",
    "  <summary>Question 3</summary>\n",
    "\n",
    "  # Question Three: Missing Number in Range\n",
    " \n",
    "  You are given a list containing `n` integers in the range `[0, n]`. Return a list of numbers that are missing from the range `[0, n]` of the array. If there is no missing number, return -1. Note, all the integers in the list may not be unique.\n",
    "  \n",
    "  ## Examples\n",
    "\n",
    "  ### Example 1\n",
    "\n",
    "  Input: `lst = [0, 2]`\n",
    "\n",
    "  Output: [1]\n",
    "\n",
    "  ### Example 2\n",
    "\n",
    "  Input: `lst = [5, 0, 1]`\n",
    "\n",
    "  Output: [2, 3, 4]\n",
    "\n",
    "  ### Example 3\n",
    "\n",
    "  Input: `lst = [6, 8, 2, 3, 5, 7, 0, 1, 10]`\n",
    "\n",
    "  Output: [4, 9]\n",
    "\n",
    "</details>\n",
    "\n",
    "#### Starter Code for Question 3\n"
   ]
  },
  {
   "cell_type": "code",
   "execution_count": null,
   "metadata": {
    "scrolled": true
   },
   "outputs": [],
   "source": [
    "def missing_num(nums: List) -> int:\n",
    "  # TODO"
   ]
  },
  {
   "cell_type": "markdown",
   "metadata": {
    "jp-MarkdownHeadingCollapsed": true
   },
   "source": [
    "## Part 2:\n",
    "\n",
    "You and your partner must share each other's Assignment 1 submission."
   ]
  },
  {
   "cell_type": "markdown",
   "metadata": {},
   "source": [
    "\n",
    "## Part 3:\n",
    "\n",
    "Create a Jupyter Notebook, create 6 of the following headings, and complete the following for your partner's assignment 1:\n",
    "\n",
    "-   Paraphrase the problem in your own words.\n"
   ]
  },
  {
   "cell_type": "code",
   "execution_count": 1,
   "metadata": {},
   "outputs": [
    {
     "data": {
      "text/plain": [
       "\" \\nThe problem asks us to identify the first element in a list that appears more than once. \\nWhen scanning through the list from left to right, we need to return the first value\\nwe encounter that we've already seen before. If there are no repeated elements in the list,\\nwe should return -1\\n\""
      ]
     },
     "execution_count": 1,
     "metadata": {},
     "output_type": "execute_result"
    }
   ],
   "source": [
    "''' \n",
    "The problem asks us to identify the first element in a list that appears more than once. \n",
    "When scanning through the list from left to right, we need to return the first value\n",
    "we encounter that we've already seen before. If there are no repeated elements in the list,\n",
    "we should return -1\n",
    "'''"
   ]
  },
  {
   "cell_type": "markdown",
   "metadata": {},
   "source": [
    "\n",
    "-   Create 1 new example that demonstrates you understand the problem. Trace/walkthrough 1 example that your partner made and explain it.\n"
   ]
  },
  {
   "cell_type": "code",
   "execution_count": 2,
   "metadata": {},
   "outputs": [
    {
     "data": {
      "text/plain": [
       "' \\nNew example:\\nInput: nums = [5,2,3,5,2,4]\\nOutput = 5\\n\\nPartners\\'s example: [1,2,3,2,1]\\nOuptut = 2\\n\\nIN my partner\\'s example, we start by scanning the list from left to right.\\n1. We see 1 - haven\\'t seen before, so we add it to our \"seen\" set. Seen = (1)\\n2. We see 2 - haven\\'t seen before, so we add it to our \"seen\" set. Seen = (1,2)\\n3. We see 3 - haven\\'t seen before, so we add it to our \"seen\" set. Seen = (1,2,3)\\n4. We see 2 - we have already seen 2, its already in our set, so we return 2 as the answer. \\n\\nEven though 1 appears twice in the list, we return 2 since its the first element we \\nencounter a second time while scanning form left to right.\\n\\n'"
      ]
     },
     "execution_count": 2,
     "metadata": {},
     "output_type": "execute_result"
    }
   ],
   "source": [
    "''' \n",
    "New example:\n",
    "Input: nums = [5,2,3,5,2,4]\n",
    "Output = 5\n",
    "\n",
    "Partners's example: [1,2,3,2,1]\n",
    "Ouptut = 2\n",
    "\n",
    "IN my partner's example, we start by scanning the list from left to right.\n",
    "1. We see 1 - haven't seen before, so we add it to our \"seen\" set. Seen = (1)\n",
    "2. We see 2 - haven't seen before, so we add it to our \"seen\" set. Seen = (1,2)\n",
    "3. We see 3 - haven't seen before, so we add it to our \"seen\" set. Seen = (1,2,3)\n",
    "4. We see 2 - we have already seen 2, its already in our set, so we return 2 as the answer. \n",
    "\n",
    "Even though 1 appears twice in the list, we return 2 since its the first element we \n",
    "encounter a second time while scanning form left to right.\n",
    "\n",
    "'''"
   ]
  },
  {
   "cell_type": "markdown",
   "metadata": {},
   "source": [
    "\n",
    "-   Copy the solution your partner wrote. \n"
   ]
  },
  {
   "cell_type": "code",
   "execution_count": 3,
   "metadata": {},
   "outputs": [],
   "source": [
    "from typing import List\n",
    "\n",
    "def first_duplicate(nums: List[int]) -> int:\n",
    "    seen = set()\n",
    "    for num in nums:\n",
    "        if num in seen:\n",
    "            return num\n",
    "        seen.add(num)\n",
    "\n",
    "    return -1"
   ]
  },
  {
   "cell_type": "markdown",
   "metadata": {},
   "source": [
    "\n",
    "-   Explain why their solution works in your own words.\n"
   ]
  },
  {
   "cell_type": "code",
   "execution_count": 5,
   "metadata": {},
   "outputs": [
    {
     "data": {
      "text/plain": [
       "\" \\nThe solution uses a set datastructure to keep track of values we've already seen while iterating \\nthrough the list. \\n1. We inititliazed an empty set called 'seen' \\n2. For each number in the input list:\\n    - If the number is already in our seen set, that means we have encountered it before\\n      so we return it immediately.\\n    - If not, we add the number to our seen set and continue. \\n3. If we reach the end of the list without finding any duplicates, we return -1. \\n\\n\""
      ]
     },
     "execution_count": 5,
     "metadata": {},
     "output_type": "execute_result"
    }
   ],
   "source": [
    "''' \n",
    "The solution uses a set datastructure to keep track of values we've already seen while iterating \n",
    "through the list. \n",
    "1. We inititliazed an empty set called 'seen' \n",
    "2. For each number in the input list:\n",
    "    - If the number is already in our seen set, that means we have encountered it before\n",
    "      so we return it immediately.\n",
    "    - If not, we add the number to our seen set and continue. \n",
    "3. If we reach the end of the list without finding any duplicates, we return -1. \n",
    "\n",
    "'''"
   ]
  },
  {
   "cell_type": "markdown",
   "metadata": {},
   "source": [
    "\n",
    "-   Explain the problem’s time and space complexity in your own words.\n"
   ]
  },
  {
   "cell_type": "code",
   "execution_count": 6,
   "metadata": {},
   "outputs": [
    {
     "data": {
      "text/plain": [
       "\" \\nTime Complexity: O(n) - Where n is the length of the input list. \\nIn the worst case(no duplicates), we need to scan through the entire list once,\\nperforming O(1) operations at each step. \\n\\nSpace Complexity: O(n) - in the worst case (all unique elements), we \\nneed to store all n elements in our 'seen' set. \\n\""
      ]
     },
     "execution_count": 6,
     "metadata": {},
     "output_type": "execute_result"
    }
   ],
   "source": [
    "''' \n",
    "Time Complexity: O(n) - Where n is the length of the input list. \n",
    "In the worst case(no duplicates), we need to scan through the entire list once,\n",
    "performing O(1) operations at each step. \n",
    "\n",
    "Space Complexity: O(n) - in the worst case (all unique elements), we \n",
    "need to store all n elements in our 'seen' set. \n",
    "'''"
   ]
  },
  {
   "cell_type": "markdown",
   "metadata": {},
   "source": [
    "\n",
    "-   Critique your partner's solution, including explanation, and if there is anything that should be adjusted.\n"
   ]
  },
  {
   "cell_type": "code",
   "execution_count": 7,
   "metadata": {},
   "outputs": [
    {
     "data": {
      "text/plain": [
       "\" \\nThe solution provided is optimal in terms of both time and space comlexity. It uses a simple,\\nclean approach that currently identifies the first duplicate element in a single pass through \\nthe list. \\n\\nPotential Improvements:\\n1. The solutions assumes that the list contains only hashable elements(which integers are),\\nfor a more generic lists containing non-hashable elements, a different approach might be needed.\\n\\n2. We can do an inplace duplication detection algorithm. ( works only for positive integers)\\n   With Space Complexity - O(1) - no additional data structure and Time Complexity - O(n)\\n\\n   def first_duplicate_in_place(nums):\\n        for num in nums:\\n            abs_num = abs(num)\\n            if nums[abs_num - 1] < 0:\\n                return abs_num\\n            nums[abs_num - 1] *= -1\\n        return -1 \\n\\n    Walkthrough:\\n     1. Interating throuh the array 'for num in nums'\\n     2. Taking the absolute value\\n     3. We use value it self as an index and minus 1 for 0 indexing. \\n     4. If the value at the index is negative, it emans we have seen this number before.\\n     5. Return the current numbr as our duplicate\\n     6.  Marking that we have seen this number 'nums[abs_num - 1] *= -1 '\\n     7. Return -1 if no duplicates. \\n\\n\\n\\nThe code my partner provided is well structured and follows good python practices with appropriate\\ntype hints. \\n\\n\""
      ]
     },
     "execution_count": 7,
     "metadata": {},
     "output_type": "execute_result"
    }
   ],
   "source": [
    "''' \n",
    "The solution provided is optimal in terms of both time and space comlexity. It uses a simple,\n",
    "clean approach that currently identifies the first duplicate element in a single pass through \n",
    "the list. \n",
    "\n",
    "Potential Improvements:\n",
    "1. The solutions assumes that the list contains only hashable elements(which integers are),\n",
    "for a more generic lists containing non-hashable elements, a different approach might be needed.\n",
    "\n",
    "2. We can do an inplace duplication detection algorithm. ( works only for positive integers)\n",
    "   With Space Complexity - O(1) - no additional data structure and Time Complexity - O(n)\n",
    "\n",
    "   def first_duplicate_in_place(nums):\n",
    "        for num in nums:\n",
    "            abs_num = abs(num)\n",
    "            if nums[abs_num - 1] < 0:\n",
    "                return abs_num\n",
    "            nums[abs_num - 1] *= -1\n",
    "        return -1 \n",
    "\n",
    "    Walkthrough:\n",
    "     1. Interating throuh the array 'for num in nums'\n",
    "     2. Taking the absolute value\n",
    "     3. We use value it self as an index and minus 1 for 0 indexing. \n",
    "     4. If the value at the index is negative, it emans we have seen this number before.\n",
    "     5. Return the current numbr as our duplicate\n",
    "     6.  Marking that we have seen this number 'nums[abs_num - 1] *= -1 '\n",
    "     7. Return -1 if no duplicates. \n",
    "\n",
    "\n",
    "\n",
    "The code my partner provided is well structured and follows good python practices with appropriate\n",
    "type hints. \n",
    "\n",
    "'''"
   ]
  },
  {
   "cell_type": "markdown",
   "metadata": {},
   "source": [
    "\n",
    "## Part 4:\n",
    "\n",
    "Please write a 200 word reflection documenting your process from assignment 1, and your presentation and review experience with your partner at the bottom of the Jupyter Notebook under a new heading \"Reflection.\" Again, export this Notebook as pdf.\n"
   ]
  },
  {
   "cell_type": "markdown",
   "metadata": {},
   "source": [
    "### Reflection"
   ]
  },
  {
   "cell_type": "code",
   "execution_count": 8,
   "metadata": {},
   "outputs": [
    {
     "data": {
      "text/plain": [
       "' \\nReflections:\\n\\nMy First assignment was Valid bracket sequence. The stack data structure was the perfect \\nchoice due to tits LIFO property, which mirrors how nexted brackets must close in reverse order\\nof opening. \\n\\nDuring implementatation I worked on creating a solution that was efficient, keeping time and\\nspace complexity in mind. \\n\\nMy partners solution to the first duplicate problem demonstrated thoughtful data structure selection.\\nIts fascinating to explore alternate solutions to the same problem with varying time and space\\ncomplexity, that probes us to come up with different types of solutions and different ways of thinking. \\n\\nThe code review process helped me recognize the importance of edge cases - particularly empty\\nstrings and non-bracket characters. The expereince reinforced that effecitive algorithmic design\\nis not just about finding a working solution, but it is about understanding why a particular\\nsolution is optimal given the problem constrains. This collaborative exchange has deepened my\\nappreciation for clear algorithmic and the value of peer review in identifiying both strengths\\nand opportunties for improvement. \\n\\n\\n'"
      ]
     },
     "execution_count": 8,
     "metadata": {},
     "output_type": "execute_result"
    }
   ],
   "source": [
    "''' \n",
    "Reflections:\n",
    "\n",
    "My First assignment was Valid bracket sequence. The stack data structure was the perfect \n",
    "choice due to tits LIFO property, which mirrors how nexted brackets must close in reverse order\n",
    "of opening. \n",
    "\n",
    "During implementatation I worked on creating a solution that was efficient, keeping time and\n",
    "space complexity in mind. \n",
    "\n",
    "My partners solution to the first duplicate problem demonstrated thoughtful data structure selection.\n",
    "Its fascinating to explore alternate solutions to the same problem with varying time and space\n",
    "complexity, that probes us to come up with different types of solutions and different ways of thinking. \n",
    "\n",
    "The code review process helped me recognize the importance of edge cases - particularly empty\n",
    "strings and non-bracket characters. The expereince reinforced that effecitive algorithmic design\n",
    "is not just about finding a working solution, but it is about understanding why a particular\n",
    "solution is optimal given the problem constrains. This collaborative exchange has deepened my\n",
    "appreciation for clear algorithmic and the value of peer review in identifiying both strengths\n",
    "and opportunties for improvement. \n",
    "\n",
    "\n",
    "'''"
   ]
  },
  {
   "cell_type": "markdown",
   "metadata": {},
   "source": [
    "\n",
    "## Evaluation Criteria\n",
    "\n",
    "We are looking for the similar points as Assignment 1\n",
    "\n",
    "-   Problem is accurately stated\n",
    "\n",
    "-   New example is correct and easily understandable\n",
    "\n",
    "-   Correctness, time, and space complexity of the coding solution\n",
    "\n",
    "-   Clarity in explaining why the solution works, its time and space complexity\n",
    "\n",
    "-   Quality of critique of your partner's assignment, if necessary\n"
   ]
  },
  {
   "cell_type": "markdown",
   "metadata": {},
   "source": [
    "## Submission Information\n",
    "\n",
    "🚨 **Please review our [Assignment Submission Guide](https://github.com/UofT-DSI/onboarding/blob/main/onboarding_documents/submissions.md)** 🚨 for detailed instructions on how to format, branch, and submit your work. Following these guidelines is crucial for your submissions to be evaluated correctly.\n",
    "\n",
    "### Submission Parameters:\n",
    "* Submission Due Date: `HH:MM AM/PM - DD/MM/YYYY`\n",
    "* The branch name for your repo should be: `assignment-2`\n",
    "* What to submit for this assignment:\n",
    "    * This Jupyter Notebook (assignment_2.ipynb) should be populated and should be the only change in your pull request.\n",
    "* What the pull request link should look like for this assignment: `https://github.com/<your_github_username>/algorithms_and_data_structures/pull/<pr_id>`\n",
    "    * Open a private window in your browser. Copy and paste the link to your pull request into the address bar. Make sure you can see your pull request properly. This helps the technical facilitator and learning support staff review your submission easily.\n",
    "\n",
    "Checklist:\n",
    "- [ ] Created a branch with the correct naming convention.\n",
    "- [ ] Ensured that the repository is public.\n",
    "- [ ] Reviewed the PR description guidelines and adhered to them.\n",
    "- [ ] Verify that the link is accessible in a private browser window.\n",
    "\n",
    "If you encounter any difficulties or have questions, please don't hesitate to reach out to our team via our Slack at `#cohort-6-help`. Our Technical Facilitators and Learning Support staff are here to help you navigate any challenges.\n"
   ]
  },
  {
   "cell_type": "code",
   "execution_count": null,
   "metadata": {},
   "outputs": [],
   "source": []
  }
 ],
 "metadata": {
  "kernelspec": {
   "display_name": "dsi_participant",
   "language": "python",
   "name": "python3"
  },
  "language_info": {
   "codemirror_mode": {
    "name": "ipython",
    "version": 3
   },
   "file_extension": ".py",
   "mimetype": "text/x-python",
   "name": "python",
   "nbconvert_exporter": "python",
   "pygments_lexer": "ipython3",
   "version": "3.9.21"
  }
 },
 "nbformat": 4,
 "nbformat_minor": 4
}
