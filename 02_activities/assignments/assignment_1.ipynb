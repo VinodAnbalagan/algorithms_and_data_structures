{
 "cells": [
  {
   "cell_type": "markdown",
   "metadata": {},
   "source": [
    "# Coding Problems\n",
    "\n",
    "## Objective\n",
    "\n",
    "This assignment aims to demonstrate how to study a data structures or algorithms question in depth to prepare for an industry coding interview. Leetcode is a popular coding practice site that many use to practice for technical interviews. Like behavioral interviews, it's important to practice and keep your skills sharp.\n",
    "\n",
    "## Group Size\n",
    "\n",
    "Please complete this individually.\n",
    "\n",
    "## Parts:\n",
    "- Part 1: Figure out the problem you have been assigned, and understand the problem\n",
    "- Part 2: Answer the questions about your assigned problem (including solving it)\n",
    "\n",
    "## Part 1:\n",
    "\n",
    "_*You will be assigned one of three problems based of your first name. Enter your first name, in all lower case, execute the code below, and that will tell you your assigned problem. Include the output as part of your submission (do not clear the output). The problems are based-off problems from Leetcode.*_\n"
   ]
  },
  {
   "cell_type": "code",
   "execution_count": 1,
   "metadata": {},
   "outputs": [
    {
     "name": "stdout",
     "output_type": "stream",
     "text": [
      "2\n"
     ]
    }
   ],
   "source": [
    "import hashlib\n",
    "\n",
    "def hash_to_range(input_string: str) -> int:\n",
    "     hash_object = hashlib.sha256(input_string.encode())\n",
    "     hash_int = int(hash_object.hexdigest(), 16)\n",
    "     return (hash_int % 3) + 1\n",
    "input_string = \"vinod\"\n",
    "result = hash_to_range(input_string)\n",
    "print(result)\n"
   ]
  },
  {
   "cell_type": "markdown",
   "metadata": {},
   "source": [
    "## Question One: First Duplicate in List\n",
    "**Description**  \n",
    "Given a list of integers, return the **first value that appears more than once**. If there are multiple duplicates, return the one that appears **first** in the list. If no duplicate exists, return `-1`.\n",
    "\n",
    "**Examples**\n",
    "```python\n",
    "Input: nums = [3, 1, 4, 2, 5, 1, 6]\n",
    "Output: 1\n",
    "```\n",
    "```python\n",
    "Input: nums = [7, 8, 9, 10]\n",
    "Output: -1\n",
    "```\n",
    "```python\n",
    "Input: nums = [4, 5, 6, 4, 6]\n",
    "Output: 4\n",
    "```\n",
    "\n",
    "**Question 1 Starter Code**"
   ]
  },
  {
   "cell_type": "code",
   "execution_count": null,
   "metadata": {},
   "outputs": [],
   "source": [
    "from typing import List\n",
    "\n",
    "def first_duplicate(nums: List[int]) -> int:\n",
    "    # TODO\n",
    "    pass"
   ]
  },
  {
   "cell_type": "markdown",
   "metadata": {},
   "source": [
    "## Question Two: Valid Bracket Sequence\n",
    "**Description**  \n",
    "Given a string containing only the characters `'('`, `')'`, `'{'`, `'}'`, `'['`, and `']'`, determine if the input string is a **valid bracket sequence**.  \n",
    "A string is valid if:\n",
    "- Open brackets are closed by the same type of brackets, and\n",
    "- Open brackets are closed in the correct order.\n",
    "\n",
    "**Examples**\n",
    "```python\n",
    "Input: s = \"([]{})\"\n",
    "Output: True\n",
    "```\n",
    "```python\n",
    "Input: s = \"([)]\"\n",
    "Output: False\n",
    "```\n",
    "```python\n",
    "Input: s = \"()[]{}\"\n",
    "Output: True\n",
    "```\n",
    "```python\n",
    "Input: s = \"[{]}\"\n",
    "Output: False\n",
    "```\n",
    "\n",
    "**Question 2 Starter Code**"
   ]
  },
  {
   "cell_type": "code",
   "execution_count": 1,
   "metadata": {},
   "outputs": [],
   "source": [
    "def is_valid_brackets(s: str) -> bool:\n",
    "    # TODO\n",
    "    pass"
   ]
  },
  {
   "cell_type": "markdown",
   "metadata": {},
   "source": [
    "## Question Three: Move All Zeros to End\n",
    "**Description**  \n",
    "Given a list of integers, move all zeros to the end while maintaining the relative order of the non-zero elements. \n",
    "\n",
    "**Examples**\n",
    "```python\n",
    "Input: nums = [0, 1, 0, 3, 12]\n",
    "Output: [1, 3, 12, 0, 0]\n",
    "```\n",
    "```python\n",
    "Input: nums = [4, 0, 5, 0, 0, 6]\n",
    "Output: [4, 5, 6, 0, 0, 0]\n",
    "```\n"
   ]
  },
  {
   "cell_type": "code",
   "execution_count": null,
   "metadata": {},
   "outputs": [],
   "source": [
    "from typing import List\n",
    "\n",
    "def move_zeros_to_end(nums: List[int]) -> List[int]:\n",
    "    # TODO\n",
    "    pass"
   ]
  },
  {
   "cell_type": "markdown",
   "metadata": {},
   "source": [
    "\n",
    "## Part 2:\n",
    "\n",
    "-   Paraphrase the problem in your own words\n"
   ]
  },
  {
   "cell_type": "code",
   "execution_count": 2,
   "metadata": {},
   "outputs": [
    {
     "data": {
      "text/plain": [
       "' \\nThe problem is aasking us to find whether a string contains only brackets and \\nif they are properly opened and closed, balanced and nested well. \\n\\nEvery opening bracket must have the same type of closing bracket.\\nNo closing bracket appear before its matching opening bracket.\\n'"
      ]
     },
     "execution_count": 2,
     "metadata": {},
     "output_type": "execute_result"
    }
   ],
   "source": [
    "''' \n",
    "The problem is aasking us to find whether a string contains only brackets and \n",
    "if they are properly opened and closed, balanced and nested well. \n",
    "\n",
    "Every opening bracket must have the same type of closing bracket.\n",
    "No closing bracket appear before its matching opening bracket.\n",
    "'''"
   ]
  },
  {
   "cell_type": "markdown",
   "metadata": {},
   "source": [
    "- In this .ipynb file, there are examples that illustrate how the code should work (the examples provided above). Create 2 new examples for the question you have been assigned, that demonstrate you understand the problem. For question 1 and 2, you don't need to create the tree demonstration, just the input and output.\n"
   ]
  },
  {
   "cell_type": "code",
   "execution_count": 3,
   "metadata": {},
   "outputs": [
    {
     "data": {
      "text/plain": [
       "' \\nInput: s = \"{{[()]}}\"\\noutput : True - Properly nested \\n\\nInput: s = \"({[}))\"\\noutput: False  - The [ is not closed and ) has no opening counterpart. \\n\\n'"
      ]
     },
     "execution_count": 3,
     "metadata": {},
     "output_type": "execute_result"
    }
   ],
   "source": [
    "''' \n",
    "Input: s = \"{{[()]}}\"\n",
    "output : True - Properly nested \n",
    "\n",
    "Input: s = \"({[}))\"\n",
    "output: False  - The [ is not closed and ) has no opening counterpart. \n",
    "\n",
    "'''"
   ]
  },
  {
   "cell_type": "markdown",
   "metadata": {},
   "source": [
    "\n",
    "-   Code the solution to your assigned problem in Python (code chunk). Note: each problem can be solved more simply if you use an abstract data type that is suitable for that problem. Using that try to find the best time and space complexity solution!\n"
   ]
  },
  {
   "cell_type": "code",
   "execution_count": 1,
   "metadata": {},
   "outputs": [],
   "source": [
    "def is_valid_bracket(s:str) -> bool:\n",
    "    # stack to keep track of the opening brackets\n",
    "    stack = []\n",
    "\n",
    "    # Dictionary to map the closing brackets to corresponding closing brackets\n",
    "\n",
    "    brackets_map = { ')':'(', '}':'{', ']':'['}\n",
    "\n",
    "    for char in s:\n",
    "        # If its a closing bracket\n",
    "        if char in brackets_map:\n",
    "            # check if stack is empty or if top doe snot match\n",
    "            if not stack or stack.pop() != brackets_map[char]:\n",
    "                return False\n",
    "        else:\n",
    "            # If its an opening bracket append it\n",
    "            stack.append(char)\n",
    "\n",
    "    return len(stack) == 0    # If stakc is not empty something was unpaired          \n",
    "\n"
   ]
  },
  {
   "cell_type": "code",
   "execution_count": 6,
   "metadata": {},
   "outputs": [
    {
     "name": "stdout",
     "output_type": "stream",
     "text": [
      "Test Case 1:  True\n",
      "Test Case 2:  False\n",
      "Test Case 3:  False\n",
      "Test Case 4:  False\n",
      "Test Case 5:  True\n",
      "Test Case 6:  False\n"
     ]
    }
   ],
   "source": [
    "print(f\"Test Case 1:  {is_valid_bracket('()')}\")         # Expected: True\n",
    "print(f\"Test Case 2:  {is_valid_bracket('(}')}\")        # Expected: False\n",
    "print(f\"Test Case 3:  {is_valid_bracket('([)]')}\")     # Expected: False\n",
    "print(f\"Test Case 4:  {is_valid_bracket('(((')}\")       # Expected: False\n",
    "print(f\"Test Case 5:  {is_valid_bracket('{[()]}')}\") # Re-confirm complex valid case: True\n",
    "print(f\"Test Case 6:  {is_valid_bracket('{[(])}')}\") # Re-confirm complex invalid case: False"
   ]
  },
  {
   "cell_type": "markdown",
   "metadata": {},
   "source": [
    "\n",
    "-   Explain why your solution works\n"
   ]
  },
  {
   "cell_type": "code",
   "execution_count": 4,
   "metadata": {},
   "outputs": [
    {
     "data": {
      "text/plain": [
       "' \\nThe solution uses stack - its perfect since it uses Last in first out, which matches how\\nbrackets must be closed. Most recenty opened bracket is closed first. \\n\\nAlgorithm:\\nwhen we encounter an opening bracker we append it to the stack.  When we encounter a \\nclosing bracket, we check if \\n1. The stack is not empty - there is a corresponsing opening bracket. \\n2. The top of the stack matches the current closing bracket. \\n\\nIf both conditions are met, we pop the matching opening bracket. \\nIf either of the condition fails, the sequence is invalid. \\n\\nFinal check: After processing all characters, the stack should be empty. If\\nits not empty then we an opening bracket was never closed. \\n\\n'"
      ]
     },
     "execution_count": 4,
     "metadata": {},
     "output_type": "execute_result"
    }
   ],
   "source": [
    "''' \n",
    "The solution uses stack - its perfect since it uses Last in first out, which matches how\n",
    "brackets must be closed. Most recenty opened bracket is closed first. \n",
    "\n",
    "Algorithm:\n",
    "when we encounter an opening bracker we append it to the stack.  When we encounter a \n",
    "closing bracket, we check if \n",
    "1. The stack is not empty - there is a corresponsing opening bracket. \n",
    "2. The top of the stack matches the current closing bracket. \n",
    "\n",
    "If both conditions are met, we pop the matching opening bracket. \n",
    "If either of the condition fails, the sequence is invalid. \n",
    "\n",
    "Final check: After processing all characters, the stack should be empty. If\n",
    "its not empty then we an opening bracket was never closed. \n",
    "\n",
    "'''"
   ]
  },
  {
   "cell_type": "markdown",
   "metadata": {},
   "source": [
    "\n",
    "-   Explain the problem’s time and space complexity\n"
   ]
  },
  {
   "cell_type": "code",
   "execution_count": 5,
   "metadata": {},
   "outputs": [
    {
     "data": {
      "text/plain": [
       "' \\nTime Complexity: O(n)\\n- We iterate through the string once, where n is the length of the string. \\n- Each character is processed in constant time O(1)\\n- stack operations (push, pop) are all O(1)\\nso, over all O(n) + O(1) + O(1) = O(n)\\n\\nSpace COmplexity: O(n)\\n- In the worst case, we might push all chracters onto the stack. example string ((((\\n- Dictionary uses constant space O(1)\\nthere over all O(n) + O(1) = O(n)\\n'"
      ]
     },
     "execution_count": 5,
     "metadata": {},
     "output_type": "execute_result"
    }
   ],
   "source": [
    "''' \n",
    "Time Complexity: O(n)\n",
    "- We iterate through the string once, where n is the length of the string. \n",
    "- Each character is processed in constant time O(1)\n",
    "- stack operations (push, pop) are all O(1)\n",
    "so, over all O(n) + O(1) + O(1) = O(n)\n",
    "\n",
    "Space COmplexity: O(n)\n",
    "- In the worst case, we might push all chracters onto the stack. example string ((((\n",
    "- Dictionary uses constant space O(1)\n",
    "there over all O(n) + O(1) = O(n)\n",
    "'''"
   ]
  },
  {
   "cell_type": "markdown",
   "metadata": {},
   "source": [
    "\n",
    "-   Explain the thinking to an alternative solution (no coding required, but a classmate reading this should be able to code it up based off your text)\n"
   ]
  },
  {
   "cell_type": "code",
   "execution_count": 6,
   "metadata": {},
   "outputs": [
    {
     "data": {
      "text/plain": [
       "\" \\nIf the problem only used one type of bracket, like a paranthesis, \\nwe can use a simple counter approach.\\n1. Initialize the counter to 0\\n2. For each character in the string :\\n -  like an opening '(' increment the counter. \\n -  If its a closing bracket then decrement the counter. \\n -  If the counter becomes negative we return False - CLosing bracker without matching opening.\\n3. Return True is counter equals 0 at the end, False otherwise. \\n\\n\\nThis approach fail for multiple brackets because its not easy to distinguish between bracket tyes. \\nBut a possible solution would be to use three counters for three types of brackets. This will not\\nsolve the nesting approach, stack approach above is the best approach since it maintains order\\nacross different type of brackets. \\n\\n\""
      ]
     },
     "execution_count": 6,
     "metadata": {},
     "output_type": "execute_result"
    }
   ],
   "source": [
    "''' \n",
    "If the problem only used one type of bracket, like a paranthesis, \n",
    "we can use a simple counter approach.\n",
    "1. Initialize the counter to 0\n",
    "2. For each character in the string :\n",
    " -  like an opening '(' increment the counter. \n",
    " -  If its a closing bracket then decrement the counter. \n",
    " -  If the counter becomes negative we return False - CLosing bracker without matching opening.\n",
    "3. Return True is counter equals 0 at the end, False otherwise. \n",
    "\n",
    "\n",
    "This approach fail for multiple brackets because its not easy to distinguish between bracket tyes. \n",
    "But a possible solution would be to use three counters for three types of brackets. This will not\n",
    "solve the nesting approach, stack approach above is the best approach since it maintains order\n",
    "across different type of brackets. \n",
    "\n",
    "'''"
   ]
  },
  {
   "cell_type": "markdown",
   "metadata": {},
   "source": [
    "## Evaluation Criteria\n",
    "\n",
    "-   Problem is accurately stated\n",
    "\n",
    "-   Two examples are correct and easily understandable\n",
    "\n",
    "-   Correctness, time, and space complexity of the coding solution\n",
    "\n",
    "-   Clarity in explaining why the solution works, its time and space complexity\n",
    "\n",
    "-   Clarity in the proposal to the alternative solution"
   ]
  },
  {
   "cell_type": "markdown",
   "metadata": {},
   "source": [
    "## Submission Information\n",
    "\n",
    "🚨 **Please review our [Assignment Submission Guide](https://github.com/UofT-DSI/onboarding/blob/main/onboarding_documents/submissions.md)** 🚨 for detailed instructions on how to format, branch, and submit your work. Following these guidelines is crucial for your submissions to be evaluated correctly.\n",
    "\n",
    "### Submission Parameters:\n",
    "* Submission Due Date: `HH:MM AM/PM - DD/MM/YYYY`\n",
    "* The branch name for your repo should be: `assignment-1`\n",
    "* What to submit for this assignment:\n",
    "    * This Jupyter Notebook (assignment_1.ipynb) should be populated and should be the only change in your pull request.\n",
    "* What the pull request link should look like for this assignment: `https://github.com/<your_github_username>/algorithms_and_data_structures/pull/<pr_id>`\n",
    "    * Open a private window in your browser. Copy and paste the link to your pull request into the address bar. Make sure you can see your pull request properly. This helps the technical facilitator and learning support staff review your submission easily.\n",
    "\n",
    "Checklist:\n",
    "- [ ] Create a branch called `assignment-1`.\n",
    "- [ ] Ensure that the repository is public.\n",
    "- [ ] Review [the PR description guidelines](https://github.com/UofT-DSI/onboarding/blob/main/onboarding_documents/submissions.md#guidelines-for-pull-request-descriptions) and adhere to them.\n",
    "- [ ] Verify that the link is accessible in a private browser window.\n",
    "\n",
    "If you encounter any difficulties or have questions, please don't hesitate to reach out to our team via our Slack at `#cohort-3-help`. Our Technical Facilitators and Learning Support staff are here to help you navigate any challenges."
   ]
  }
 ],
 "metadata": {
  "kernelspec": {
   "display_name": "dsi_participant",
   "language": "python",
   "name": "python3"
  },
  "language_info": {
   "codemirror_mode": {
    "name": "ipython",
    "version": 3
   },
   "file_extension": ".py",
   "mimetype": "text/x-python",
   "name": "python",
   "nbconvert_exporter": "python",
   "pygments_lexer": "ipython3",
   "version": "3.9.21"
  }
 },
 "nbformat": 4,
 "nbformat_minor": 4
}
